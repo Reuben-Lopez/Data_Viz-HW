{
 "cells": [
  {
   "cell_type": "markdown",
   "metadata": {},
   "source": [
    "# San Francisco Rental Prices Dashboard\n",
    "\n",
    "In this notebook, you will compile the visualizations from the previous analysis into functions that can be used for a Panel dashboard."
   ]
  },
  {
   "cell_type": "code",
   "execution_count": 17,
   "metadata": {},
   "outputs": [],
   "source": [
    "# initial imports\n",
    "import os\n",
    "import pandas as pd\n",
    "import matplotlib.pyplot as plt\n",
    "import hvplot.pandas\n",
    "import panel as pn\n",
    "import plotly.express as px\n",
    "from pathlib import Path\n",
    "from dotenv import load_dotenv\n",
    "\n",
    "# Initialize the Panel Extensions (for Plotly)\n",
    "pn.extension('plotly')"
   ]
  },
  {
   "cell_type": "code",
   "execution_count": 18,
   "metadata": {},
   "outputs": [],
   "source": [
    "# Read the Mapbox API key\n",
    "env_path = Path('/Users/alexlopez') / '.env'\n",
    "load_dotenv(env_path)\n",
    "mapbox_token = os.getenv(\"MAPBOX_API_KEY\")"
   ]
  },
  {
   "cell_type": "markdown",
   "metadata": {},
   "source": [
    "# Import Data"
   ]
  },
  {
   "cell_type": "code",
   "execution_count": 19,
   "metadata": {},
   "outputs": [],
   "source": [
    "# Import the CSVs to Pandas DataFrames\n",
    "file_path = Path(\"Data/sfo_neighborhoods_census_data.csv\")\n",
    "sfo_data = pd.read_csv(file_path, index_col=\"year\")\n",
    "\n",
    "file_path = Path(\"Data/neighborhoods_coordinates.csv\")\n",
    "df_neighborhood_locations = pd.read_csv(file_path)"
   ]
  },
  {
   "cell_type": "markdown",
   "metadata": {},
   "source": [
    "- - -"
   ]
  },
  {
   "cell_type": "markdown",
   "metadata": {},
   "source": [
    "## Panel Visualizations\n",
    "\n",
    "In this section, you will copy the code for each plot type from your analysis notebook and place it into separate functions that Panel can use to create panes for the dashboard. \n",
    "\n",
    "These functions will convert the plot object to a Panel pane.\n",
    "\n",
    "Be sure to include any DataFrame transformation/manipulation code required along with the plotting code.\n",
    "\n",
    "Return a Panel pane object from each function that can be used to build the dashboard.\n",
    "\n",
    "Note: Remove any `.show()` lines from the code. We want to return the plots instead of showing them. The Panel dashboard will then display the plots."
   ]
  },
  {
   "cell_type": "code",
   "execution_count": 20,
   "metadata": {},
   "outputs": [],
   "source": [
    "# Define Panel Visualization Functions\n",
    "def housing_units_per_year():\n",
    "    \"\"\"Housing Units Per Year.\"\"\"\n",
    "    housing_units_per_year = sfo_data.groupby('year')['housing_units'].mean()\n",
    "    min_units = min(housing_units_per_year)\n",
    "    max_units= max(housing_units_per_year)\n",
    "    std_units = housing_units_per_year.std()\n",
    "    housing_units_per_year.plot(kind='bar',title='housing Units in San Fransico from 2010 to 2016', ylim= (min_units - std_units,max_units + std_units))\n",
    "    \n",
    "    return housing_units_per_year\n",
    "\n",
    "def average_gross_rent():\n",
    "    \"\"\"Average Gross Rent in San Francisco Per Year.\"\"\"\n",
    "    average_gross_rent = sfo_data.groupby('year')[['sale_price_sqr_foot','gross_rent']].mean()\n",
    "    average_gross_rent['gross_rent'].plot(title='Average Gross Rent per Year')\n",
    "    \n",
    "    return average_gross_rent\n",
    "    # YOUR CODE HERE!\n",
    "\n",
    "\n",
    "def average_sales_price():\n",
    "    \"\"\"Average Sales Price Per Year.\"\"\"\n",
    "    average_sales_price =  average_gross_rent['sale_price_sqr_foot'].plot(title='Average Sales Price per Year')\n",
    "    average_sales_price.hvplot(x='year', y='sale_price_sqr_foot', groupby= 'neighborhood', kind='line',)\n",
    "    # YOUR CODE HERE!\n",
    "    return average_sales_price\n",
    "\n",
    "def average_price_by_neighborhood():\n",
    "    \"\"\"Average Prices by Neighborhood.\"\"\"\n",
    "    average_price_by_neighborhood = sfo_data.groupby(['year','neighborhood']).mean()\n",
    "    average_price_by_neighborhood.hvplot(x='year', y='sale_price_sqr_foot', groupby= 'neighborhood', kind='line',)\n",
    "    # YOUR CODE HERE!\n",
    "    return average_price_by_neighborhood\n",
    "    \n",
    "def top_most_expensive_neighborhoods():\n",
    "    \"\"\"Top 10 Most Expensive Neighborhoods.\"\"\"\n",
    "    most_expensive = sfo_data.groupby('neighborhood').mean()\n",
    "    top_10 = most_expensive.nlargest(10,columns=['sale_price_sqr_foot'])\n",
    "    top_10['sale_price_sqr_foot'].hvplot.bar(rot=90)\n",
    "    # YOUR CODE HERE!\n",
    "    return \n",
    "\n",
    "def parallel_coordinates():\n",
    "    \"\"\"Parallel Coordinates Plot.\"\"\"\n",
    "    parallel_coordinates = px.parallel_coordinates(top_10, color='sale_price_sqr_foot')\n",
    "    # YOUR CODE HERE!\n",
    "    return parallel_coordinates\n",
    "\n",
    "def parallel_categories():\n",
    "    \"\"\"Parallel Categories Plot.\"\"\"\n",
    "    parallel_categories = px.parallel_categories(top_10, dimensions=[top_10.index,'sale_price_sqr_foot','housing_units','gross_rent'], color='sale_price_sqr_foot')\n",
    "    # YOUR CODE HERE!\n",
    "    return parallel_categories\n",
    "\n",
    "def neighborhood_map():\n",
    "    \"\"\"Neighborhood Map\"\"\"\n",
    "    env_path = Path('/Users/alexlopez') / '.env'\n",
    "    load_dotenv(env_path)\n",
    "    mapbox_token = os.getenv(\"MAPBOX_API_KEY\")\n",
    "    \n",
    "    avg_price_hood_2 = sfo_data.groupby(['neighborhood']).mean()\n",
    "    avg_price_hood_2.reset_index(inplace=True)\n",
    "    avg_price_hood_2.rename(columns={'neighborhood':'Neighborhood'}, inplace=True)\n",
    "    neighboorhood_mean = pd.merge(df_neighborhood_locations,avg_price_hood_2, on='Neighborhood')\n",
    "    map_1= px.scatter_mapbox(\n",
    "        neighboorhood_mean,\n",
    "        lat='Lat',\n",
    "        lon='Lon',\n",
    "        color='gross_rent',\n",
    "        size='sale_price_sqr_foot',\n",
    "        size_max=15,\n",
    "        zoom=11,\n",
    "        hover_name='Neighborhood',\n",
    "    \n",
    ")\n",
    "    return neighborhood_map\n",
    "    # YOUR CODE HERE!\n",
    "\n"
   ]
  },
  {
   "cell_type": "markdown",
   "metadata": {},
   "source": [
    "## Panel Dashboard\n",
    "\n",
    "In this section, you will combine all of the plots into a single dashboard view using Panel. Be creative with your dashboard design!"
   ]
  },
  {
   "cell_type": "code",
   "execution_count": 21,
   "metadata": {},
   "outputs": [
    {
     "ename": "TypeError",
     "evalue": "'function' object is not subscriptable",
     "output_type": "error",
     "traceback": [
      "\u001b[0;31m---------------------------------------------------------------------------\u001b[0m",
      "\u001b[0;31mTypeError\u001b[0m                                 Traceback (most recent call last)",
      "\u001b[0;32m<ipython-input-21-0972aa6e4037>\u001b[0m in \u001b[0;36m<module>\u001b[0;34m\u001b[0m\n\u001b[1;32m      1\u001b[0m \u001b[0;31m# YOUR CODE HERE!\u001b[0m\u001b[0;34m\u001b[0m\u001b[0;34m\u001b[0m\u001b[0;34m\u001b[0m\u001b[0m\n\u001b[1;32m      2\u001b[0m yearly_column = pn.Column(\n\u001b[0;32m----> 3\u001b[0;31m     \u001b[0;34m\"## Yearly Neighborhood Analysis\"\u001b[0m\u001b[0;34m,\u001b[0m \u001b[0mhousing_units_per_year\u001b[0m\u001b[0;34m(\u001b[0m\u001b[0;34m)\u001b[0m\u001b[0;34m,\u001b[0m \u001b[0maverage_gross_rent\u001b[0m\u001b[0;34m(\u001b[0m\u001b[0;34m)\u001b[0m\u001b[0;34m,\u001b[0m\u001b[0maverage_sales_price\u001b[0m\u001b[0;34m(\u001b[0m\u001b[0;34m)\u001b[0m\u001b[0;34m,\u001b[0m\u001b[0;34m\u001b[0m\u001b[0;34m\u001b[0m\u001b[0m\n\u001b[0m\u001b[1;32m      4\u001b[0m )\n\u001b[1;32m      5\u001b[0m \u001b[0;34m\u001b[0m\u001b[0m\n",
      "\u001b[0;32m<ipython-input-20-d20dbde42229>\u001b[0m in \u001b[0;36maverage_sales_price\u001b[0;34m()\u001b[0m\n\u001b[1;32m     21\u001b[0m \u001b[0;32mdef\u001b[0m \u001b[0maverage_sales_price\u001b[0m\u001b[0;34m(\u001b[0m\u001b[0;34m)\u001b[0m\u001b[0;34m:\u001b[0m\u001b[0;34m\u001b[0m\u001b[0;34m\u001b[0m\u001b[0m\n\u001b[1;32m     22\u001b[0m     \u001b[0;34m\"\"\"Average Sales Price Per Year.\"\"\"\u001b[0m\u001b[0;34m\u001b[0m\u001b[0;34m\u001b[0m\u001b[0m\n\u001b[0;32m---> 23\u001b[0;31m     \u001b[0maverage_sales_price\u001b[0m \u001b[0;34m=\u001b[0m  \u001b[0maverage_gross_rent\u001b[0m\u001b[0;34m[\u001b[0m\u001b[0;34m'sale_price_sqr_foot'\u001b[0m\u001b[0;34m]\u001b[0m\u001b[0;34m.\u001b[0m\u001b[0mplot\u001b[0m\u001b[0;34m(\u001b[0m\u001b[0mtitle\u001b[0m\u001b[0;34m=\u001b[0m\u001b[0;34m'Average Sales Price per Year'\u001b[0m\u001b[0;34m)\u001b[0m\u001b[0;34m\u001b[0m\u001b[0;34m\u001b[0m\u001b[0m\n\u001b[0m\u001b[1;32m     24\u001b[0m     \u001b[0maverage_sales_price\u001b[0m\u001b[0;34m.\u001b[0m\u001b[0mhvplot\u001b[0m\u001b[0;34m(\u001b[0m\u001b[0mx\u001b[0m\u001b[0;34m=\u001b[0m\u001b[0;34m'year'\u001b[0m\u001b[0;34m,\u001b[0m \u001b[0my\u001b[0m\u001b[0;34m=\u001b[0m\u001b[0;34m'sale_price_sqr_foot'\u001b[0m\u001b[0;34m,\u001b[0m \u001b[0mgroupby\u001b[0m\u001b[0;34m=\u001b[0m \u001b[0;34m'neighborhood'\u001b[0m\u001b[0;34m,\u001b[0m \u001b[0mkind\u001b[0m\u001b[0;34m=\u001b[0m\u001b[0;34m'line'\u001b[0m\u001b[0;34m,\u001b[0m\u001b[0;34m)\u001b[0m\u001b[0;34m\u001b[0m\u001b[0;34m\u001b[0m\u001b[0m\n\u001b[1;32m     25\u001b[0m     \u001b[0;31m# YOUR CODE HERE!\u001b[0m\u001b[0;34m\u001b[0m\u001b[0;34m\u001b[0m\u001b[0;34m\u001b[0m\u001b[0m\n",
      "\u001b[0;31mTypeError\u001b[0m: 'function' object is not subscriptable"
     ]
    },
    {
     "data": {
      "image/png": "[encoded data removed]",
      "text/plain": [
       "<Figure size 432x288 with 1 Axes>"
      ]
     },
     "metadata": {
      "needs_background": "light"
     },
     "output_type": "display_data"
    }
   ],
   "source": [
    "# YOUR CODE HERE!\n",
    "yearly_column = pn.Column(\n",
    "    \"## Yearly Neighborhood Analysis\", housing_units_per_year(), average_gross_rent(),average_sales_price(),\n",
    ")\n",
    "\n",
    "neighborhood_column = pn.Column(\n",
    "    \"## Average Price By Neighborhood and Top Most Expensive\",\n",
    "    average_price_by_neighborhood(),\n",
    "    top_most_expensive_neighborhoods(),\n",
    ")\n",
    "\n",
    "parallel_plot_column= pn.Column(\n",
    "    parallel_coordinates(),\n",
    "    parallel_categories(),\n",
    ")\n",
    "\n",
    "welcome_column = pn.Column(\n",
    "    neighborhood_map(),\n",
    ")\n",
    "# Create tabs\n",
    "welcome_ = pn.Tabs(\n",
    "    (\"Welcome\", welcome_column), (\"Yearly Market Analysis\", yearly_column), ('Neighboorhood Analysis', neighborhood_column),\n",
    "('Parallel Plot Analysis', parallel_plot_column)\n",
    ")"
   ]
  },
  {
   "cell_type": "markdown",
   "metadata": {},
   "source": [
    "## Serve the Panel Dashboard"
   ]
  },
  {
   "cell_type": "code",
   "execution_count": 16,
   "metadata": {},
   "outputs": [
    {
     "ename": "NameError",
     "evalue": "name 'panel' is not defined",
     "output_type": "error",
     "traceback": [
      "\u001b[0;31m---------------------------------------------------------------------------\u001b[0m",
      "\u001b[0;31mNameError\u001b[0m                                 Traceback (most recent call last)",
      "\u001b[0;32m<ipython-input-16-7ea6f3083eaf>\u001b[0m in \u001b[0;36m<module>\u001b[0;34m\u001b[0m\n\u001b[0;32m----> 1\u001b[0;31m \u001b[0mpanel\u001b[0m\u001b[0;34m.\u001b[0m\u001b[0mservable\u001b[0m\u001b[0;34m(\u001b[0m\u001b[0;34m)\u001b[0m\u001b[0;34m\u001b[0m\u001b[0;34m\u001b[0m\u001b[0m\n\u001b[0m",
      "\u001b[0;31mNameError\u001b[0m: name 'panel' is not defined"
     ]
    }
   ],
   "source": [
    "panel.servable()"
   ]
  },
  {
   "cell_type": "code",
   "execution_count": null,
   "metadata": {},
   "outputs": [],
   "source": []
  }
 ],
 "metadata": {
  "file_extension": ".py",
  "kernelspec": {
   "display_name": "Python 3",
   "language": "python",
   "name": "python3"
  },
  "language_info": {
   "codemirror_mode": {
    "name": "ipython",
    "version": 3
   },
   "file_extension": ".py",
   "mimetype": "text/x-python",
   "name": "python",
   "nbconvert_exporter": "python",
   "pygments_lexer": "ipython3",
   "version": "3.7.7"
  },
  "mimetype": "text/x-python",
  "name": "python",
  "npconvert_exporter": "python",
  "pygments_lexer": "ipython3",
  "version": 3
 },
 "nbformat": 4,
 "nbformat_minor": 4
}
